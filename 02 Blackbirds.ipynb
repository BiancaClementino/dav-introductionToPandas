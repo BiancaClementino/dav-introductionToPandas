{
 "cells": [
  {
   "cell_type": "markdown",
   "metadata": {
    "slideshow": {
     "slide_type": "slide"
    }
   },
   "source": [
    "## Reminder\n",
    "\n",
    "We came a long way in that first tutorial. A reminder of what we did and where to find it:\n",
    "\n",
    "- [Getting the data into Python](./tutorial.ipynb#Getting-the-data-into-Python)\n",
    "    -  using `read_csv` and dealing with missing data\n",
    "- [Accessing columns](./tutorial.ipynb#Accessing-the-columns)\n",
    "    -  using dot notation and square brackets\n",
    "    -  setting the index\n",
    "    -  using `loc`\n",
    "- [Sorting and filtering](.tutorial.ipynb#Sorting-and-filtering)\n",
    "    -  the `sort_values` function\n",
    "    -  how to get documentation\n",
    "    -  default arguments\n",
    "    -  passing a Boolean to `loc[]`\n",
    "    -  compound filters\n",
    "- [Summary statistics](./tutorial.ipynb#Summary-statistics)\n",
    "    -  not so useful for this data set but good to know\n",
    "- [Investigating relationships](./tutorial.ipynb#Investigating-relationships)\n",
    "    -  drawing scatter plots in `pandas`\n",
    "    -  drawing better scatter plots in `seaborn`\n",
    "    -  getting the correlation coefficient\n",
    "- [Time series](./tutorial.ipynb#Time-Series)\n",
    "    -  plotting simple time series\n",
    "    -  applying a calculation and creating new columns\n",
    "\n"
   ]
  },
  {
   "cell_type": "markdown",
   "metadata": {
    "slideshow": {
     "slide_type": "slide"
    }
   },
   "source": [
    "## Practice\n",
    "\n",
    "![Blackbird](https://www.rspb.org.uk/globalassets/images/birds-and-wildlife/bird-species-illustrations/blackbird_male_1200x675.jpg?preset=landscape_mobile)"
   ]
  },
  {
   "cell_type": "code",
   "execution_count": null,
   "metadata": {
    "slideshow": {
     "slide_type": "notes"
    }
   },
   "outputs": [],
   "source": [
    "import pandas as pd\n",
    "import matplotlib.pyplot as plt\n",
    "import seaborn as sns\n",
    "%matplotlib inline"
   ]
  },
  {
   "cell_type": "markdown",
   "metadata": {
    "slideshow": {
     "slide_type": "subslide"
    }
   },
   "source": [
    "1. Import the `blackbirds.csv` data into a `pandas` dataframe.\n",
    "1. How many rows are there in your dataframe? (Try `.size`)\n",
    "1. Is there a sensible index in the dataframe?\n",
    "1. What do each of the columns represent? What do you think the age values mean?\n",
    "1. Find the mean and standard deviation (`std`) of the wing span and weight columns.\n",
    "1. Use the documentation to check *which* standard deviation you're getting.\n",
    "1. Use the `quantile` function to find the median and the IQR too.\n",
    "1. Is there a relationship between wing span and weight? Visualise it and measure it.\n",
    "1. Use the `hue`, `size`, `style` and `markers` of the `seaborn` [scatterplot function](https://seaborn.pydata.org/generated/seaborn.scatterplot.html) to distinguish between the different kinds of blackbird in your plot.\n",
    "1. Find the mean and standard deviation weight and wing span of adult female and male blackbirds separately.\n",
    "1. What other questions could you ask of this data set?"
   ]
  },
  {
   "cell_type": "markdown",
   "metadata": {
    "slideshow": {
     "slide_type": "subslide"
    }
   },
   "source": [
    "### Q1 and Q2"
   ]
  },
  {
   "cell_type": "code",
   "execution_count": null,
   "metadata": {
    "scrolled": false,
    "slideshow": {
     "slide_type": "subslide"
    }
   },
   "outputs": [],
   "source": [
    "blackbirds = pd.read_csv(\"blackbirds.csv\")\n",
    "len(blackbirds)"
   ]
  },
  {
   "cell_type": "markdown",
   "metadata": {
    "slideshow": {
     "slide_type": "fragment"
    }
   },
   "source": [
    "### Q3\n",
    "\n",
    "There isn't anything unique in the columns to index by."
   ]
  },
  {
   "cell_type": "markdown",
   "metadata": {
    "slideshow": {
     "slide_type": "fragment"
    }
   },
   "source": [
    "### Q4\n",
    "\n",
    "The values in the age column are Juvenile, First year, Adult and Unknown"
   ]
  },
  {
   "cell_type": "markdown",
   "metadata": {
    "slideshow": {
     "slide_type": "subslide"
    }
   },
   "source": [
    "### Q5"
   ]
  },
  {
   "cell_type": "code",
   "execution_count": null,
   "metadata": {
    "slideshow": {
     "slide_type": "-"
    }
   },
   "outputs": [],
   "source": [
    "blackbirds.Weight.std()"
   ]
  },
  {
   "cell_type": "markdown",
   "metadata": {
    "slideshow": {
     "slide_type": "fragment"
    }
   },
   "source": [
    "### Q6\n",
    "\n",
    "The default `ddof` argument is 1, which means the denominator will be $n-1$, so this is sample standard deviation by default."
   ]
  },
  {
   "cell_type": "markdown",
   "metadata": {
    "slideshow": {
     "slide_type": "subslide"
    }
   },
   "source": [
    "### Q7"
   ]
  },
  {
   "cell_type": "code",
   "execution_count": null,
   "metadata": {
    "slideshow": {
     "slide_type": "-"
    }
   },
   "outputs": [],
   "source": [
    "print(\"Weight: The median is {}, with IQR {}\".format(blackbirds.Weight.quantile(0.5),\n",
    "                                                     blackbirds.Weight.quantile(0.75)-blackbirds.Weight.quantile(0.25)))\n",
    "print(\"Wing: The median is {}, with IQR {}\".format(blackbirds.Wing.quantile(0.5),\n",
    "                                                     blackbirds.Wing.quantile(0.75)-blackbirds.Wing.quantile(0.25)))"
   ]
  },
  {
   "cell_type": "markdown",
   "metadata": {
    "slideshow": {
     "slide_type": "subslide"
    }
   },
   "source": [
    "But actually,"
   ]
  },
  {
   "cell_type": "code",
   "execution_count": null,
   "metadata": {
    "scrolled": false,
    "slideshow": {
     "slide_type": "-"
    }
   },
   "outputs": [],
   "source": [
    "blackbirds.describe()"
   ]
  },
  {
   "cell_type": "markdown",
   "metadata": {
    "slideshow": {
     "slide_type": "subslide"
    }
   },
   "source": [
    "The `Year` column shouldn't really work like that. If you check `blackbirds.dtypes` you'll see why."
   ]
  },
  {
   "cell_type": "code",
   "execution_count": null,
   "metadata": {
    "scrolled": true,
    "slideshow": {
     "slide_type": "fragment"
    }
   },
   "outputs": [],
   "source": [
    "blackbirds.Year = pd.to_datetime(blackbirds.Year,format=\"%Y\")\n",
    "blackbirds.describe()"
   ]
  },
  {
   "cell_type": "markdown",
   "metadata": {
    "slideshow": {
     "slide_type": "-"
    }
   },
   "source": [
    "Check `blackbirds.dtypes` again."
   ]
  },
  {
   "cell_type": "markdown",
   "metadata": {
    "slideshow": {
     "slide_type": "subslide"
    }
   },
   "source": [
    "### Q8"
   ]
  },
  {
   "cell_type": "code",
   "execution_count": null,
   "metadata": {
    "slideshow": {
     "slide_type": "-"
    }
   },
   "outputs": [],
   "source": [
    "blackbirds.plot.scatter(\"Wing\",\"Weight\")"
   ]
  },
  {
   "cell_type": "code",
   "execution_count": null,
   "metadata": {
    "slideshow": {
     "slide_type": "subslide"
    }
   },
   "outputs": [],
   "source": [
    "blackbirds.corr()"
   ]
  },
  {
   "cell_type": "markdown",
   "metadata": {
    "slideshow": {
     "slide_type": "subslide"
    }
   },
   "source": [
    "### Q9"
   ]
  },
  {
   "cell_type": "code",
   "execution_count": null,
   "metadata": {
    "hide_input": false,
    "scrolled": true,
    "slideshow": {
     "slide_type": "-"
    }
   },
   "outputs": [],
   "source": [
    "plt.figure(figsize=(12,10))\n",
    "\n",
    "sns.scatterplot(data=blackbirds,x=\"Wing\",y=\"Weight\",hue=\"Age\", style=\"Sex\", palette=\"Spectral\", alpha=0.5)"
   ]
  },
  {
   "cell_type": "markdown",
   "metadata": {
    "slideshow": {
     "slide_type": "subslide"
    }
   },
   "source": [
    "### Q10"
   ]
  },
  {
   "cell_type": "code",
   "execution_count": null,
   "metadata": {
    "slideshow": {
     "slide_type": "subslide"
    }
   },
   "outputs": [],
   "source": [
    "blackbirds.loc[(blackbirds.Sex=='M')&(blackbirds.Age=='A')].describe()"
   ]
  },
  {
   "cell_type": "code",
   "execution_count": null,
   "metadata": {
    "slideshow": {
     "slide_type": "subslide"
    }
   },
   "outputs": [],
   "source": [
    "blackbirds.loc[(blackbirds.Sex=='F')&(blackbirds.Age=='A')].describe()"
   ]
  },
  {
   "cell_type": "markdown",
   "metadata": {
    "slideshow": {
     "slide_type": "subslide"
    }
   },
   "source": [
    "But this feels like good opportunity to see the `groupby` function:"
   ]
  },
  {
   "cell_type": "code",
   "execution_count": null,
   "metadata": {
    "slideshow": {
     "slide_type": "-"
    }
   },
   "outputs": [],
   "source": [
    "blackbirds.groupby([\"Age\",\"Sex\"]).mean()"
   ]
  },
  {
   "cell_type": "markdown",
   "metadata": {},
   "source": [
    "### Q11"
   ]
  },
  {
   "cell_type": "markdown",
   "metadata": {
    "slideshow": {
     "slide_type": "subslide"
    }
   },
   "source": [
    "## Boxplots\n",
    "\n",
    "We can use grouped boxplots to see how weight and wing span change with age"
   ]
  },
  {
   "cell_type": "code",
   "execution_count": null,
   "metadata": {
    "slideshow": {
     "slide_type": "fragment"
    }
   },
   "outputs": [],
   "source": [
    "# Make a figure with two subplots with a shared y-axis\n",
    "fig, axs = plt.subplots(1,2, sharey=True)\n",
    "# axs is a list so we can get the first subplot with ax[0]\n",
    "sns.boxplot(x=\"Wing\",y=\"Age\",data=blackbirds, ax=axs[0])\n",
    "# and the second with ax[1]\n",
    "sns.boxplot(x=\"Weight\",y=\"Age\",data=blackbirds, ax=axs[1]);"
   ]
  },
  {
   "cell_type": "markdown",
   "metadata": {
    "slideshow": {
     "slide_type": "subslide"
    }
   },
   "source": [
    "## Distribution plots\n",
    "\n",
    "`seaborn` has a `distplot` function the combines a histogram with an estimate of the continuous distribution shape"
   ]
  },
  {
   "cell_type": "code",
   "execution_count": null,
   "metadata": {
    "scrolled": true,
    "slideshow": {
     "slide_type": "-"
    }
   },
   "outputs": [],
   "source": [
    "# *** broken ***\n",
    "sns.distplot(blackbirds.Weight)"
   ]
  },
  {
   "cell_type": "code",
   "execution_count": null,
   "metadata": {
    "scrolled": false,
    "slideshow": {
     "slide_type": "subslide"
    }
   },
   "outputs": [],
   "source": [
    "fig,axs = plt.subplots(1,2)\n",
    "sns.distplot(blackbirds.Weight.dropna(),bins=10, ax=axs[0])\n",
    "sns.distplot(blackbirds.Wing.dropna(),bins=10, ax=axs[1])"
   ]
  },
  {
   "cell_type": "markdown",
   "metadata": {
    "slideshow": {
     "slide_type": "subslide"
    }
   },
   "source": [
    "Use `distplot` to compare the distribution of weight and the wing span for female and male blackbirds"
   ]
  },
  {
   "cell_type": "code",
   "execution_count": null,
   "metadata": {
    "slideshow": {
     "slide_type": "fragment"
    }
   },
   "outputs": [],
   "source": [
    "fig, axs = plt.subplots(1,2)\n",
    "fig.suptitle(\"Weight and wingspan distribution by sex\")\n",
    "\n",
    "axs[0].get_yaxis().set_visible(False)\n",
    "sns.distplot(blackbirds[blackbirds.Sex=='M'].Wing.dropna(),color=\"Green\", ax=axs[0], label='M', bins=10)\n",
    "sns.distplot(blackbirds[blackbirds.Sex=='F'].Wing.dropna(),color=\"Purple\", ax=axs[0], label='F', bins=10)\n",
    "\n",
    "axs[1].get_yaxis().set_visible(False)\n",
    "sns.distplot(blackbirds[blackbirds.Sex=='M'].Weight.dropna(),color=\"Green\", ax=axs[1], label='M')\n",
    "sns.distplot(blackbirds[blackbirds.Sex=='F'].Weight.dropna(),color=\"Purple\", ax=axs[1], label='F')\n",
    "\n",
    "axs[1].legend();"
   ]
  },
  {
   "cell_type": "markdown",
   "metadata": {
    "slideshow": {
     "slide_type": "-"
    }
   },
   "source": [
    "What does this suggest?"
   ]
  },
  {
   "cell_type": "markdown",
   "metadata": {
    "slideshow": {
     "slide_type": "subslide"
    }
   },
   "source": [
    "## Hypothesis testing\n",
    "\n",
    "It looks like the mean wing span for female blackbirds is different from the mean for males. How should we test that?"
   ]
  },
  {
   "cell_type": "markdown",
   "metadata": {
    "slideshow": {
     "slide_type": "fragment"
    }
   },
   "source": [
    "The `scipy` package has a function for doing t-tests\n",
    "\n",
    "https://docs.scipy.org/doc/scipy-0.14.0/reference/generated/scipy.stats.ttest_ind.html"
   ]
  },
  {
   "cell_type": "code",
   "execution_count": null,
   "metadata": {
    "slideshow": {
     "slide_type": "-"
    }
   },
   "outputs": [],
   "source": [
    "from scipy import stats"
   ]
  },
  {
   "cell_type": "code",
   "execution_count": null,
   "metadata": {
    "slideshow": {
     "slide_type": "subslide"
    }
   },
   "outputs": [],
   "source": [
    "stats.ttest_ind(blackbirds.loc[blackbirds.Sex == 'M',\"Wing\"].dropna(),blackbirds.loc[blackbirds.Sex == 'F',\"Wing\"].dropna(),\n",
    "               equal_var=False)"
   ]
  },
  {
   "cell_type": "markdown",
   "metadata": {
    "slideshow": {
     "slide_type": "-"
    }
   },
   "source": [
    "What can we conclude? Was this a one or a two-tailed test? Does it matter?"
   ]
  },
  {
   "cell_type": "markdown",
   "metadata": {
    "slideshow": {
     "slide_type": "subslide"
    }
   },
   "source": [
    "## Time series\n",
    "\n",
    "Let's look at how weight and wing span have varied over time"
   ]
  },
  {
   "cell_type": "code",
   "execution_count": null,
   "metadata": {
    "slideshow": {
     "slide_type": "fragment"
    }
   },
   "outputs": [],
   "source": [
    "# A groupby by itself doesn't do very much\n",
    "blackbirds.groupby(by=\"Year\")"
   ]
  },
  {
   "cell_type": "code",
   "execution_count": null,
   "metadata": {
    "slideshow": {
     "slide_type": "subslide"
    }
   },
   "outputs": [],
   "source": [
    "blackbirds.groupby(by=\"Year\").mean()"
   ]
  },
  {
   "cell_type": "code",
   "execution_count": null,
   "metadata": {
    "scrolled": true,
    "slideshow": {
     "slide_type": "subslide"
    }
   },
   "outputs": [],
   "source": [
    "blackbirds.groupby(by=\"Year\").mean().plot();"
   ]
  },
  {
   "cell_type": "markdown",
   "metadata": {
    "slideshow": {
     "slide_type": "subslide"
    }
   },
   "source": [
    "## Ordinal data\n",
    "\n",
    "It so happened that A, F, J and U worked quite well because they're in alphabetical order. But it would be better to tell `pandas` what order we really mean them to come in."
   ]
  },
  {
   "cell_type": "code",
   "execution_count": null,
   "metadata": {
    "slideshow": {
     "slide_type": "fragment"
    }
   },
   "outputs": [],
   "source": [
    "blackbirds.Age = pd.Categorical(blackbirds.Age, categories=[\"U\",\"J\",\"F\",\"A\"])"
   ]
  },
  {
   "cell_type": "code",
   "execution_count": null,
   "metadata": {
    "scrolled": true,
    "slideshow": {
     "slide_type": "subslide"
    }
   },
   "outputs": [],
   "source": [
    "fig, axs = plt.subplots(1,2, sharey=True)\n",
    "sns.boxplot(x=\"Wing\",y=\"Age\",data=blackbirds, ax=axs[0])\n",
    "sns.boxplot(x=\"Weight\",y=\"Age\",data=blackbirds, ax=axs[1]);"
   ]
  },
  {
   "cell_type": "markdown",
   "metadata": {
    "slideshow": {
     "slide_type": "subslide"
    }
   },
   "source": [
    "Investigate the optional arguments for boxplots. What definition of outlier is used?"
   ]
  }
 ],
 "metadata": {
  "celltoolbar": "Slideshow",
  "kernelspec": {
   "display_name": "Python 3",
   "language": "python",
   "name": "python3"
  },
  "language_info": {
   "codemirror_mode": {
    "name": "ipython",
    "version": 3
   },
   "file_extension": ".py",
   "mimetype": "text/x-python",
   "name": "python",
   "nbconvert_exporter": "python",
   "pygments_lexer": "ipython3",
   "version": "3.6.6"
  }
 },
 "nbformat": 4,
 "nbformat_minor": 2
}
