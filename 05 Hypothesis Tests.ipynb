{
 "cells": [
  {
   "cell_type": "code",
   "execution_count": null,
   "metadata": {},
   "outputs": [],
   "source": [
    "import matplotlib.pyplot as plt\n",
    "import numpy as np\n",
    "import pandas as pd\n",
    "import seaborn as sns\n",
    "from scipy import stats\n",
    "import warnings\n",
    "warnings.simplefilter(action='ignore', category=FutureWarning)"
   ]
  },
  {
   "cell_type": "markdown",
   "metadata": {},
   "source": [
    "# Chi squared"
   ]
  },
  {
   "cell_type": "code",
   "execution_count": null,
   "metadata": {},
   "outputs": [],
   "source": [
    "titanic = pd.read_csv('titanic.txt', sep='\\t')"
   ]
  },
  {
   "cell_type": "markdown",
   "metadata": {},
   "source": [
    "The Chi square test compares the observed coincidence of two categorical variables with what the expected coincidence would be if they were independent.\n",
    "\n",
    "Going back to the Titanic data, we can see the observed coincidence of `Sex` and `Survived` in a *contingency table* (what `pandas` calls a `crosstab`):"
   ]
  },
  {
   "cell_type": "code",
   "execution_count": null,
   "metadata": {
    "scrolled": true
   },
   "outputs": [],
   "source": [
    "pd.crosstab(titanic.Sex, titanic.Survived, margins=True)"
   ]
  },
  {
   "cell_type": "markdown",
   "metadata": {},
   "source": [
    "We can pass that table to the `contingency.expected_freq` function from `scipy.stats` to see what numbers we'd expected if the two variables were independent:"
   ]
  },
  {
   "cell_type": "code",
   "execution_count": null,
   "metadata": {},
   "outputs": [],
   "source": [
    "stats.contingency.expected_freq(pd.crosstab(titanic.Sex, titanic.Survived, margins=True))\n"
   ]
  },
  {
   "cell_type": "markdown",
   "metadata": {},
   "source": [
    "So it certainly looks like there's something going on. We can pass that crosstab into `chi2_contingency` to carry out the hypothesis test with:\n",
    "\n",
    "$H_0$: The variables `Sex` and `Survived` are independent\n",
    "\n",
    "$H_1$: There is an association between `Sex` and `Survived`"
   ]
  },
  {
   "cell_type": "code",
   "execution_count": null,
   "metadata": {},
   "outputs": [],
   "source": [
    "titanic_chi2 = stats.chi2_contingency(pd.crosstab(titanic.Sex, titanic.Survived, margins=True))\n",
    "titanic_chi2"
   ]
  },
  {
   "cell_type": "markdown",
   "metadata": {},
   "source": [
    "The first item is the chi square statistic, the second is the p value, and the third is the expected contingency table if the null hypothesis were true.\n",
    "\n",
    "The high chi square statistic and very low p value strongly suggest that these two variables are *not* independent."
   ]
  },
  {
   "cell_type": "markdown",
   "metadata": {},
   "source": [
    "# t tests"
   ]
  },
  {
   "cell_type": "code",
   "execution_count": null,
   "metadata": {},
   "outputs": [],
   "source": [
    "from ipywidgets import interact, IntSlider, FloatSlider"
   ]
  },
  {
   "cell_type": "code",
   "execution_count": null,
   "metadata": {},
   "outputs": [],
   "source": [
    "def update(n=30,meanA=50,stdA=1,meanB=50,stdB=1,alpha=0.05):\n",
    "    # generate two sets of normally distributed data\n",
    "    groupA = np.random.normal(meanA, stdA, n)\n",
    "    groupB = np.random.normal(meanB, stdB, n)\n",
    "    # plot them\n",
    "    sns.distplot(groupA)\n",
    "    sns.distplot(groupB)\n",
    "    # apply an independent t-test\n",
    "    ttest_result = stats.ttest_ind(groupA,groupB, equal_var=False)\n",
    "    s = '''\n",
    "    meanA = {}\n",
    "    meanB = {}\n",
    "    H0: meanA = meanB\n",
    "    H1: meanA <> meanB\n",
    "    t = {}\n",
    "    '''  \n",
    "    if (ttest_result.pvalue) <= alpha:\n",
    "        s+= '''\n",
    "        p = {} <= {}\n",
    "        Reject H0 at the {} significance level\n",
    "        '''\n",
    "    else:\n",
    "        s+= '''\n",
    "        p = {} > {}\n",
    "        Fail to reject H0 at the {} significance level\n",
    "        '''\n",
    "    print(s.format(groupA.mean().round(2),groupB.mean().round(2),ttest_result.statistic, ttest_result.pvalue, alpha, alpha))\n",
    "interact(update,\n",
    "         n=IntSlider(value=30,min=3,max=100,step=1,continuous_update=False),\n",
    "         meanA=IntSlider(value=50,min=10,max=100,step=1,continuous_update=False),\n",
    "         stdA=IntSlider(value=1,min=1,max=10,step=1,continuous_update=False),\n",
    "         meanB=IntSlider(value=50,min=10,max=100,step=1,continuous_update=False),\n",
    "         stdB=IntSlider(value=1,min=1,max=10,step=1,continuous_update=False),\n",
    "         alpha=FloatSlider(value=0.05,min=0.01,max=0.1,step=0.01,continuous_update=False)\n",
    "         );"
   ]
  }
 ],
 "metadata": {
  "kernelspec": {
   "display_name": "Python 3",
   "language": "python",
   "name": "python3"
  },
  "language_info": {
   "codemirror_mode": {
    "name": "ipython",
    "version": 3
   },
   "file_extension": ".py",
   "mimetype": "text/x-python",
   "name": "python",
   "nbconvert_exporter": "python",
   "pygments_lexer": "ipython3",
   "version": "3.6.6"
  }
 },
 "nbformat": 4,
 "nbformat_minor": 2
}
