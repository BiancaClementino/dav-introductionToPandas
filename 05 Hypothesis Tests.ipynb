{
 "cells": [
  {
   "cell_type": "markdown",
   "metadata": {},
   "source": [
    "# Hypothesis testing with `scipy` `stats`\n",
    "\n",
    "- [Chi squared](#Chi-squared)\n",
    "- [t test](#t-test)\n",
    "- Binomial\n",
    "    - [Distribution](#Binomial)\n",
    "    - [Hypothesis test](#A-binomial-hypothesis-test)\n",
    "        - [Using the critical region](#Critical-region)\n",
    "        - [Using the `binom_test` function](#Alternatively)\n",
    "    - [Interactive](#Using-interact)"
   ]
  },
  {
   "cell_type": "code",
   "execution_count": 1,
   "metadata": {},
   "outputs": [],
   "source": [
    "import matplotlib.pyplot as plt\n",
    "import numpy as np\n",
    "import pandas as pd\n",
    "import seaborn as sns\n",
    "from scipy import stats\n",
    "import warnings\n",
    "warnings.simplefilter(action='ignore', category=FutureWarning)"
   ]
  },
  {
   "cell_type": "markdown",
   "metadata": {},
   "source": [
    "## Chi squared"
   ]
  },
  {
   "cell_type": "code",
   "execution_count": 2,
   "metadata": {},
   "outputs": [],
   "source": [
    "titanic = pd.read_csv('titanic.txt', sep='\\t')"
   ]
  },
  {
   "cell_type": "markdown",
   "metadata": {},
   "source": [
    "The Chi square test compares the observed coincidence of two categorical variables with what the expected coincidence would be if they were independent.\n",
    "\n",
    "Going back to the Titanic data, we can see the observed coincidence of `Sex` and `Survived` in a *contingency table* (what `pandas` calls a `crosstab`):"
   ]
  },
  {
   "cell_type": "code",
   "execution_count": 3,
   "metadata": {
    "scrolled": true
   },
   "outputs": [
    {
     "data": {
      "text/html": [
       "<div>\n",
       "<style scoped>\n",
       "    .dataframe tbody tr th:only-of-type {\n",
       "        vertical-align: middle;\n",
       "    }\n",
       "\n",
       "    .dataframe tbody tr th {\n",
       "        vertical-align: top;\n",
       "    }\n",
       "\n",
       "    .dataframe thead th {\n",
       "        text-align: right;\n",
       "    }\n",
       "</style>\n",
       "<table border=\"1\" class=\"dataframe\">\n",
       "  <thead>\n",
       "    <tr style=\"text-align: right;\">\n",
       "      <th>Survived</th>\n",
       "      <th>Alive</th>\n",
       "      <th>Dead</th>\n",
       "      <th>All</th>\n",
       "    </tr>\n",
       "    <tr>\n",
       "      <th>Sex</th>\n",
       "      <th></th>\n",
       "      <th></th>\n",
       "      <th></th>\n",
       "    </tr>\n",
       "  </thead>\n",
       "  <tbody>\n",
       "    <tr>\n",
       "      <th>Female</th>\n",
       "      <td>359</td>\n",
       "      <td>130</td>\n",
       "      <td>489</td>\n",
       "    </tr>\n",
       "    <tr>\n",
       "      <th>Male</th>\n",
       "      <td>353</td>\n",
       "      <td>1366</td>\n",
       "      <td>1719</td>\n",
       "    </tr>\n",
       "    <tr>\n",
       "      <th>All</th>\n",
       "      <td>712</td>\n",
       "      <td>1496</td>\n",
       "      <td>2208</td>\n",
       "    </tr>\n",
       "  </tbody>\n",
       "</table>\n",
       "</div>"
      ],
      "text/plain": [
       "Survived  Alive  Dead   All\n",
       "Sex                        \n",
       "Female      359   130   489\n",
       "Male        353  1366  1719\n",
       "All         712  1496  2208"
      ]
     },
     "execution_count": 3,
     "metadata": {},
     "output_type": "execute_result"
    }
   ],
   "source": [
    "pd.crosstab(titanic.Sex, titanic.Survived, margins=True)"
   ]
  },
  {
   "cell_type": "markdown",
   "metadata": {},
   "source": [
    "We can pass that table to the `contingency.expected_freq` function from `scipy.stats` to see what numbers we'd expected if the two variables were independent:"
   ]
  },
  {
   "cell_type": "code",
   "execution_count": 4,
   "metadata": {},
   "outputs": [
    {
     "data": {
      "text/plain": [
       "array([[ 157.68478261,  331.31521739,  489.        ],\n",
       "       [ 554.31521739, 1164.68478261, 1719.        ],\n",
       "       [ 712.        , 1496.        , 2208.        ]])"
      ]
     },
     "execution_count": 4,
     "metadata": {},
     "output_type": "execute_result"
    }
   ],
   "source": [
    "stats.contingency.expected_freq(pd.crosstab(titanic.Sex, titanic.Survived, margins=True))\n"
   ]
  },
  {
   "cell_type": "markdown",
   "metadata": {},
   "source": [
    "So it certainly looks like there's something going on. We can pass that crosstab into `chi2_contingency` to carry out the hypothesis test with:\n",
    "\n",
    "$H_0$: The variables `Sex` and `Survived` are independent\n",
    "\n",
    "$H_1$: There is an association between `Sex` and `Survived`"
   ]
  },
  {
   "cell_type": "code",
   "execution_count": 5,
   "metadata": {},
   "outputs": [
    {
     "data": {
      "text/plain": [
       "(487.2525189655862,\n",
       " 3.8279207203631174e-104,\n",
       " 4,\n",
       " array([[ 157.68478261,  331.31521739,  489.        ],\n",
       "        [ 554.31521739, 1164.68478261, 1719.        ],\n",
       "        [ 712.        , 1496.        , 2208.        ]]))"
      ]
     },
     "execution_count": 5,
     "metadata": {},
     "output_type": "execute_result"
    }
   ],
   "source": [
    "titanic_chi2 = stats.chi2_contingency(pd.crosstab(titanic.Sex, titanic.Survived, margins=True))\n",
    "titanic_chi2"
   ]
  },
  {
   "cell_type": "markdown",
   "metadata": {},
   "source": [
    "The first item is the chi square statistic, the second is the p value, and the third is the expected contingency table if the null hypothesis were true.\n",
    "\n",
    "The high chi square statistic and very low p value strongly suggest that these two variables are *not* independent."
   ]
  },
  {
   "cell_type": "markdown",
   "metadata": {},
   "source": [
    "## t test"
   ]
  },
  {
   "cell_type": "code",
   "execution_count": 6,
   "metadata": {},
   "outputs": [],
   "source": [
    "from ipywidgets import interact, IntSlider, FloatSlider"
   ]
  },
  {
   "cell_type": "code",
   "execution_count": 7,
   "metadata": {},
   "outputs": [
    {
     "data": {
      "application/vnd.jupyter.widget-view+json": {
       "model_id": "a9c8cad5eb58437f93897269525dde6f",
       "version_major": 2,
       "version_minor": 0
      },
      "text/plain": [
       "interactive(children=(IntSlider(value=30, continuous_update=False, description='n', min=3), IntSlider(value=50…"
      ]
     },
     "metadata": {},
     "output_type": "display_data"
    }
   ],
   "source": [
    "def update(n=30,meanA=50,stdA=1,meanB=50,stdB=1,alpha=0.05):\n",
    "    # generate two sets of normally distributed data\n",
    "    groupA = np.random.normal(meanA, stdA, n)\n",
    "    groupB = np.random.normal(meanB, stdB, n)\n",
    "    # plot them\n",
    "    sns.distplot(groupA)\n",
    "    sns.distplot(groupB)\n",
    "    # apply an independent t-test\n",
    "    ttest_result = stats.ttest_ind(groupA,groupB, equal_var=False)\n",
    "    s = '''\n",
    "    meanA = {}\n",
    "    meanB = {}\n",
    "    H0: meanA = meanB\n",
    "    H1: meanA <> meanB\n",
    "    t = {}\n",
    "    '''  \n",
    "    if (ttest_result.pvalue) <= alpha:\n",
    "        s+= '''\n",
    "        p = {} <= {}\n",
    "        Reject H0 at the {} significance level\n",
    "        '''\n",
    "    else:\n",
    "        s+= '''\n",
    "        p = {} > {}\n",
    "        Fail to reject H0 at the {} significance level\n",
    "        '''\n",
    "    print(s.format(groupA.mean().round(2),groupB.mean().round(2),ttest_result.statistic, ttest_result.pvalue, alpha, alpha))\n",
    "interact(update,\n",
    "         n=IntSlider(value=30,min=3,max=100,step=1,continuous_update=False),\n",
    "         meanA=IntSlider(value=50,min=10,max=100,step=1,continuous_update=False),\n",
    "         stdA=IntSlider(value=1,min=1,max=10,step=1,continuous_update=False),\n",
    "         meanB=IntSlider(value=50,min=10,max=100,step=1,continuous_update=False),\n",
    "         stdB=IntSlider(value=1,min=1,max=10,step=1,continuous_update=False),\n",
    "         alpha=FloatSlider(value=0.05,min=0.01,max=0.1,step=0.01,continuous_update=False)\n",
    "         );"
   ]
  },
  {
   "cell_type": "markdown",
   "metadata": {},
   "source": [
    "## Binomial"
   ]
  },
  {
   "cell_type": "markdown",
   "metadata": {},
   "source": [
    "* Use the scipy.stats [binomial](https://docs.scipy.org/doc/scipy/reference/generated/scipy.stats.binom.html#scipy.stats.binom) function to generate binomial distributions. Plot them. Make an `interact` to vary the parameters\n",
    "* The [binom_test](https://docs.scipy.org/doc/scipy-0.14.0/reference/generated/scipy.stats.binom_test.html) to write a binomial hypothesis test procedure."
   ]
  },
  {
   "cell_type": "markdown",
   "metadata": {},
   "source": [
    "Generate one random number from a binomial distribution"
   ]
  },
  {
   "cell_type": "code",
   "execution_count": 8,
   "metadata": {},
   "outputs": [
    {
     "data": {
      "text/plain": [
       "17"
      ]
     },
     "execution_count": 8,
     "metadata": {},
     "output_type": "execute_result"
    }
   ],
   "source": [
    "stats.binom.rvs(n=100,p=1/6)"
   ]
  },
  {
   "cell_type": "markdown",
   "metadata": {},
   "source": [
    "Recall that this represents the number of successes from $n$ independent trials, each with probability of success $p$"
   ]
  },
  {
   "cell_type": "markdown",
   "metadata": {},
   "source": [
    "Let's now get a list of these to plot"
   ]
  },
  {
   "cell_type": "code",
   "execution_count": 9,
   "metadata": {},
   "outputs": [
    {
     "data": {
      "image/png": "[encoded data removed]",
      "text/plain": [
       "<Figure size 432x288 with 1 Axes>"
      ]
     },
     "metadata": {
      "needs_background": "light"
     },
     "output_type": "display_data"
    }
   ],
   "source": [
    "binomial = stats.binom.rvs(n=100,p=1/6, size=1000)\n",
    "sns.distplot(binomial, bins=10);"
   ]
  },
  {
   "cell_type": "markdown",
   "metadata": {},
   "source": [
    "In theory we could get from 0 to 100 success so let's fix the axes:"
   ]
  },
  {
   "cell_type": "code",
   "execution_count": 10,
   "metadata": {},
   "outputs": [
    {
     "data": {
      "image/png": "[encoded data removed]",
      "text/plain": [
       "<Figure size 432x288 with 1 Axes>"
      ]
     },
     "metadata": {
      "needs_background": "light"
     },
     "output_type": "display_data"
    }
   ],
   "source": [
    "binomial = stats.binom.rvs(n=100,p=1/6, size=1000)\n",
    "ax = sns.distplot(binomial, bins=10)\n",
    "ax.set_xlim(0,100);"
   ]
  },
  {
   "cell_type": "markdown",
   "metadata": {},
   "source": [
    "This shows how skewed the distribution is. We can get results over 40 successes but very rarely."
   ]
  },
  {
   "cell_type": "markdown",
   "metadata": {},
   "source": [
    "### A binomial hypothesis test\n",
    "There are two ways to approach a binomial hypothesis test:\n",
    "\n",
    "- find the probability of the observed outcome (or an even less likely outcome) and see if that is less than your chosen alpha\n",
    "- identify a *critical region* of outcomes that represent your alpha and then see if the observed outcome is within that region"
   ]
  },
  {
   "cell_type": "markdown",
   "metadata": {},
   "source": [
    "### Critical regions\n",
    "\n",
    "Let's say that you think Dodgy Bob's dice is biased in favour of sixes. You're going to ask him to roll his dice a hundred times. How can we decide in advance what sort of outcome would convince us to reject the null (and safe) hypothesis and assert that the dice is biased?"
   ]
  },
  {
   "cell_type": "markdown",
   "metadata": {},
   "source": [
    "Let $p$ be the probability of throwing a six on an unbiased dice.\n",
    "\n",
    "$H_0:p=\\frac{1}{6}\\\\H_1:p>\\frac{1}{6}$\n",
    "\n",
    "Shall we say $\\alpha=0.05$ is our significance level? In other words, we'll decide the critical region by considering outcomes that have a less than 5% if the dice is *not* dodgy."
   ]
  },
  {
   "cell_type": "markdown",
   "metadata": {},
   "source": [
    "The `stats.binom.cdf(k,n,p)` function will give us the cumulative probability of getting up to and including `k` successes from `n` trials with probability `p`.\n",
    "\n",
    "So for example the probability of getting 10 or fewer sixes from 100 rolls of an unbiased dice is:"
   ]
  },
  {
   "cell_type": "code",
   "execution_count": 11,
   "metadata": {},
   "outputs": [
    {
     "data": {
      "text/plain": [
       "0.042695684147024654"
      ]
     },
     "execution_count": 11,
     "metadata": {},
     "output_type": "execute_result"
    }
   ],
   "source": [
    "stats.binom.cdf(10,100,1/6)"
   ]
  },
  {
   "cell_type": "markdown",
   "metadata": {},
   "source": [
    "So if we'd been worried about this dice being biased *against* sixes, that result would have been in our critical region!"
   ]
  },
  {
   "cell_type": "markdown",
   "metadata": {},
   "source": [
    "Look how the probability of getting k or fewer successes increases as k goes from 0 to 100:"
   ]
  },
  {
   "cell_type": "code",
   "execution_count": 12,
   "metadata": {
    "scrolled": true
   },
   "outputs": [
    {
     "data": {
      "image/png": "[encoded data removed]",
      "text/plain": [
       "<Figure size 432x288 with 1 Axes>"
      ]
     },
     "metadata": {
      "needs_background": "light"
     },
     "output_type": "display_data"
    }
   ],
   "source": [
    "ks = np.arange(101)\n",
    "bcdf = [stats.binom.cdf(k,100,1/6) for k in ks]\n",
    "sns.lineplot(ks, bcdf);"
   ]
  },
  {
   "cell_type": "markdown",
   "metadata": {},
   "source": [
    "To identify our critical region, we need to know when k crosses into the 95% region. In other words, there's a 95% chance that we get fewer than k successes, or a 5% chance that we get k or more.\n",
    "\n",
    "`stats.binom` has a function for that too:"
   ]
  },
  {
   "cell_type": "code",
   "execution_count": 13,
   "metadata": {},
   "outputs": [
    {
     "data": {
      "text/plain": [
       "23.0"
      ]
     },
     "execution_count": 13,
     "metadata": {},
     "output_type": "execute_result"
    }
   ],
   "source": [
    "stats.binom.ppf(0.95,100,1/6)"
   ]
  },
  {
   "cell_type": "markdown",
   "metadata": {},
   "source": [
    "The critical region starts at 23 then:"
   ]
  },
  {
   "cell_type": "code",
   "execution_count": 14,
   "metadata": {
    "scrolled": true
   },
   "outputs": [
    {
     "data": {
      "image/png": "[encoded data removed]",
      "text/plain": [
       "<Figure size 432x288 with 1 Axes>"
      ]
     },
     "metadata": {
      "needs_background": "light"
     },
     "output_type": "display_data"
    }
   ],
   "source": [
    "ks = np.arange(101)\n",
    "bcdf = [stats.binom.cdf(k,100,1/6) for k in ks]\n",
    "ax = sns.lineplot(ks, bcdf)\n",
    "ax.axvspan(23,100,color=\"red\",alpha=0.1);"
   ]
  },
  {
   "cell_type": "markdown",
   "metadata": {},
   "source": [
    "Just to check:"
   ]
  },
  {
   "cell_type": "code",
   "execution_count": 15,
   "metadata": {
    "scrolled": true
   },
   "outputs": [
    {
     "data": {
      "text/plain": [
       "0.9621356313465913"
      ]
     },
     "execution_count": 15,
     "metadata": {},
     "output_type": "execute_result"
    }
   ],
   "source": [
    "stats.binom.cdf(23,100,1/6)"
   ]
  },
  {
   "cell_type": "markdown",
   "metadata": {},
   "source": [
    "So 23 sixes is in our critical region.\n",
    "\n",
    "Now we can get Dodgy Bob to roll the dice 100 times and if he rolls 23 or more sixes we can reject the null hypothesis at the 5% significance level.\n",
    "\n",
    "We could then repeat this with as many suspected dodgy dice owners as we like. But note that for every twenty accusations we make, we'd expect one of them to be a false accusation! "
   ]
  },
  {
   "cell_type": "markdown",
   "metadata": {},
   "source": [
    "### Alternatively\n",
    "\n",
    "Alternatively, suppose we've already seen Dodgy Bob roll his dice 100 times, and he just got 25 sixes. We can carry out the hypothesis test in one line like this:"
   ]
  },
  {
   "cell_type": "code",
   "execution_count": 16,
   "metadata": {},
   "outputs": [
    {
     "data": {
      "text/plain": [
       "0.031235750326025068"
      ]
     },
     "execution_count": 16,
     "metadata": {},
     "output_type": "execute_result"
    }
   ],
   "source": [
    "stats.binom_test(25, 100, 1/6)"
   ]
  },
  {
   "cell_type": "markdown",
   "metadata": {},
   "source": [
    "This p value is less than our threshold, so we reject the null hypothesis as before."
   ]
  },
  {
   "cell_type": "markdown",
   "metadata": {},
   "source": [
    "If he'd rolled 21 sixes:"
   ]
  },
  {
   "cell_type": "code",
   "execution_count": 17,
   "metadata": {},
   "outputs": [
    {
     "data": {
      "text/plain": [
       "0.22960706910147133"
      ]
     },
     "execution_count": 17,
     "metadata": {},
     "output_type": "execute_result"
    }
   ],
   "source": [
    "stats.binom_test(21, 100, 1/6)"
   ]
  },
  {
   "cell_type": "markdown",
   "metadata": {},
   "source": [
    "This is perhaps an unusually high number of sixes, but the p value is not below our threshold, so we fail to reject the null hypothesis, and leave Dodgy Bob with his dice."
   ]
  },
  {
   "cell_type": "markdown",
   "metadata": {},
   "source": [
    "### Using interact"
   ]
  },
  {
   "cell_type": "code",
   "execution_count": 18,
   "metadata": {},
   "outputs": [],
   "source": [
    "from ipywidgets import interact, IntSlider, FloatSlider, Dropdown"
   ]
  },
  {
   "cell_type": "code",
   "execution_count": 19,
   "metadata": {},
   "outputs": [
    {
     "data": {
      "application/vnd.jupyter.widget-view+json": {
       "model_id": "2c3b0e609cbb4cb4ae595f2223dbe60d",
       "version_major": 2,
       "version_minor": 0
      },
      "text/plain": [
       "interactive(children=(IntSlider(value=100, continuous_update=False, description='n', max=200, min=10), FloatSl…"
      ]
     },
     "metadata": {},
     "output_type": "display_data"
    }
   ],
   "source": [
    "\n",
    "def update(n,p,alpha,tails):\n",
    "    ks = np.arange(n+1)\n",
    "    bcdf = [stats.binom.cdf(k,n,p) for k in ks]\n",
    "    ax = sns.lineplot(ks, bcdf)\n",
    "    if tails == \"both\":\n",
    "        a = alpha/2\n",
    "    else:\n",
    "        a = alpha\n",
    "    if tails == \"both\" or tails == \"left\":\n",
    "        left_crit = int(stats.binom.ppf(a,n,p))\n",
    "        ax.axvspan(0,left_crit,color=\"red\",alpha=0.1)\n",
    "        ax.annotate(left_crit,(left_crit,0.5))\n",
    "    if tails == \"both\" or tails == \"right\":\n",
    "        right_crit = int(stats.binom.ppf(1-a,n,p))\n",
    "        ax.axvspan(right_crit,n,color=\"red\",alpha=0.1)\n",
    "        ax.annotate(right_crit,(right_crit,0.5))\n",
    "        # The alpha here is opacity not significance level!\n",
    "\n",
    "interact(update,\n",
    "        n = IntSlider(value=100, min=10, max=200, continuous_update=False),\n",
    "        p = FloatSlider(value=1/6, min=0.01, max=0.99, continuous_update=False),\n",
    "        alpha = Dropdown(options=[0.05,0.01,0.005,0.001]),\n",
    "        tails = Dropdown(options=[\"left\",\"right\",\"both\"]));"
   ]
  }
 ],
 "metadata": {
  "kernelspec": {
   "display_name": "Python 3",
   "language": "python",
   "name": "python3"
  },
  "language_info": {
   "codemirror_mode": {
    "name": "ipython",
    "version": 3
   },
   "file_extension": ".py",
   "mimetype": "text/x-python",
   "name": "python",
   "nbconvert_exporter": "python",
   "pygments_lexer": "ipython3",
   "version": "3.6.6"
  }
 },
 "nbformat": 4,
 "nbformat_minor": 2
}
