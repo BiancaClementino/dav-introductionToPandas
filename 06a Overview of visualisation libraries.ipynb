{
 "cells": [
  {
   "cell_type": "code",
   "execution_count": 2,
   "metadata": {},
   "outputs": [
    {
     "data": {
      "image/png": "[encoded data removed]",
      "text/plain": [
       "<Figure size 432x288 with 1 Axes>"
      ]
     },
     "metadata": {
      "needs_background": "light"
     },
     "output_type": "display_data"
    }
   ],
   "source": [
    "import matplotlib.pyplot as plt\n",
    "fig, ax = plt.subplots()\n",
    "fig.suptitle(\"Family tree of python plotting packages\")\n",
    "ax.set_xlim(0,300)\n",
    "ax.set_ylim(0,100)\n",
    "ax.axison = False\n",
    "ax.annotate(\"matplotlib.pyplot\",(0,50))\n",
    "ax.annotate(\"pandas.plot\",(80,50),(155,80),arrowprops=dict(arrowstyle='<-'))\n",
    "ax.annotate(\"seaborn\",(80,50),(155,50),arrowprops=dict(arrowstyle='<-'))\n",
    "ax.annotate(\"bokeh\",(80,50),(155,20),arrowprops=dict(arrowstyle='<-'))\n",
    "ax.annotate(\"holoviews\",(185,20),(255,50),arrowprops=dict(arrowstyle='<-'))\n",
    "ax.annotate(\"chartify\",(185,20),(255,20),arrowprops=dict(arrowstyle='<-'))\n",
    "ax.annotate(\"plotly\",(25,75))\n",
    "ax.annotate(\"dash\",(50,75),(95,90),arrowprops=dict(arrowstyle='<-'));"
   ]
  },
  {
   "cell_type": "markdown",
   "metadata": {},
   "source": [
    "- [matplotlib](https://matplotlib.org/)\n",
    "    - The oldest and most developed library\n",
    "    - Highly flexible\n",
    "    - Steep learning curve\n",
    "    - Two distinct styles of use which can be confusing because different examples might use different approaches\n",
    "    - Can be used to draw pretty much anything not just graphs\n",
    "- [pandas plotting](https://pandas.pydata.org/pandas-docs/stable/visualization.html)\n",
    "    - Built on matplotlib.pyplot\n",
    "    - Plot directly from a dataframe\n",
    "    - Okay defaults but often need to access underlying pyplot anyway\n",
    "- [seaborn](https://seaborn.pydata.org/)\n",
    "    - Also built on matplotlib.pyplot but better aesthetics\n",
    "    - Easy to create [composite plots with multiple factors](https://seaborn.pydata.org/examples/index.html#example-gallery)\n",
    "    - Automatically builds in things like regression lines with confidence intervals\n",
    "    - Static, though does work well with jupyter's interactive widgets\n",
    "- [bokeh](https://bokeh.pydata.org/en/latest/)\n",
    "    - Again, built on matplotlib.pyplot\n",
    "    - Easy to create very interactive plots\n",
    "    - Works best as a live web app\n",
    "    - Doesn't always play well in jupyter notebooks\n",
    "- [holoviews](http://holoviews.org/)\n",
    "    - Built on bokeh for interaction, but can also work directly with pyplot for static plots\n",
    "    - Describe the semantics of the data and let holoviews decide what to do with it\n",
    "- [chartify](https://github.com/spotify/chartify)\n",
    "    - Spotify's take on bokeh\n",
    "    - Intuitive workflow\n",
    "    - Good choice of defaults\n",
    "    - Consistent naming of parts\n",
    "- [plotly](https://github.com/plotly/plotly.py/blob/master/README.md)\n",
    "    - Not built on pyplot\n",
    "    - Hands off the plotting to a javascript library\n",
    "- [dash](https://plot.ly/)\n",
    "    - Built on plotly\n",
    "    - Good for building data dashboards\n",
    "    - Has to run as a web app"
   ]
  }
 ],
 "metadata": {
  "kernelspec": {
   "display_name": "Python 3",
   "language": "python",
   "name": "python3"
  },
  "language_info": {
   "codemirror_mode": {
    "name": "ipython",
    "version": 3
   },
   "file_extension": ".py",
   "mimetype": "text/x-python",
   "name": "python",
   "nbconvert_exporter": "python",
   "pygments_lexer": "ipython3",
   "version": "3.6.6"
  }
 },
 "nbformat": 4,
 "nbformat_minor": 2
}
