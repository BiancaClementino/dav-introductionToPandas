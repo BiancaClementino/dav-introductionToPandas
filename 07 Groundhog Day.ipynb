{
 "cells": [
  {
   "cell_type": "markdown",
   "metadata": {},
   "source": [
    "# Can Punxsutawney Phil really predict the weather?\n",
    "\n",
    "> Punxsutawney Phil is the name of a groundhog in Punxsutawney, Pennsylvania. On February 2 (Groundhog Day) each year, the borough of Punxsutawney celebrates the legendary groundhog with a festive atmosphere of music and food. During the ceremony, which begins well before the winter sunrise, Phil emerges from his temporary home on Gobbler's Knob, located in a rural area about 2 miles (3 km) southeast of town. According to the tradition, if Phil sees his shadow and returns to his hole, he has predicted six more weeks of winter-like weather. If Phil does not see his shadow, he has predicted an \"early spring.\" The date of Phil's prognostication is known as Groundhog Day in the United States and Canada, and has been celebrated since 1887. Punxsutawney Phil became an international celebrity thanks to the 1993 movie Groundhog Day."
   ]
  },
  {
   "cell_type": "markdown",
   "metadata": {},
   "source": [
    "Historical data regarding Groundhog Day is available in the file `groundhog.csv`\n",
    "\n",
    "The average temperature is recorded for February and March in\n",
    "\n",
    "- Pennsylvania (which is in the north-eastern USA)\n",
    "- The North-East more widely\n",
    "- The Mid-Western US\n",
    "- The whole country\n",
    "\n",
    "Some initial exploration\n",
    "\n",
    "- How frequently does Phil see his full shadow?\n",
    "- How do temperatures in the different regions compare?\n",
    "- Has / how has average temperature changed over time?\n",
    "\n",
    "The main question\n",
    "\n",
    "- Is there a significant difference between average temperatures when Phil has or has not seen his shadow?\n",
    "    - In Pennsylvania? More widely?\n",
    "    \n",
    "You might find the following function useful\n",
    "\n",
    "- `df.rename({'one': 'foo', 'two': 'bar'}, axis='columns')`"
   ]
  }
 ],
 "metadata": {
  "kernelspec": {
   "display_name": "Python 3",
   "language": "python",
   "name": "python3"
  },
  "language_info": {
   "codemirror_mode": {
    "name": "ipython",
    "version": 3
   },
   "file_extension": ".py",
   "mimetype": "text/x-python",
   "name": "python",
   "nbconvert_exporter": "python",
   "pygments_lexer": "ipython3",
   "version": "3.6.6"
  }
 },
 "nbformat": 4,
 "nbformat_minor": 2
}
